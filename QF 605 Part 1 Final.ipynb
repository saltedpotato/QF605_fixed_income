{
 "cells": [
  {
   "cell_type": "markdown",
   "metadata": {},
   "source": [
    "# Part 1"
   ]
  },
  {
   "cell_type": "markdown",
   "metadata": {},
   "source": [
    "## Question 1 - OIS"
   ]
  },
  {
   "cell_type": "code",
   "execution_count": 1,
   "metadata": {
    "ExecuteTime": {
     "end_time": "2024-03-30T13:22:06.790753Z",
     "start_time": "2024-03-30T13:22:05.733064Z"
    }
   },
   "outputs": [],
   "source": [
    "import pandas as pd\n",
    "import numpy as np\n",
    "import matplotlib.pyplot as plt\n",
    "from scipy.optimize import brentq, least_squares, curve_fit\n",
    "pd.set_option('display.precision', 6)\n",
    "\n",
    "%matplotlib inline\n",
    "import warnings\n",
    "warnings.filterwarnings(\"ignore\")"
   ]
  },
  {
   "cell_type": "code",
   "execution_count": 4,
   "metadata": {
    "ExecuteTime": {
     "end_time": "2024-03-30T13:22:06.880215Z",
     "start_time": "2024-03-30T13:22:06.791817Z"
    }
   },
   "outputs": [],
   "source": [
    "# Get OIS data\n",
    "ois_data = pd.read_excel(\"IR Data.xlsx\", sheet_name=\"OIS\").drop(columns = ['Unnamed: 3', 'Unnamed: 4', 'Unnamed: 5'])"
   ]
  },
  {
   "cell_type": "code",
   "execution_count": 6,
   "metadata": {
    "ExecuteTime": {
     "end_time": "2024-03-30T13:22:06.888763Z",
     "start_time": "2024-03-30T13:22:06.880884Z"
    }
   },
   "outputs": [],
   "source": [
    "# Parse Tenors\n",
    "def tenor_to_years(tenor):\n",
    "    tenor_str = str(tenor)\n",
    "    if 'm' in tenor_str:\n",
    "        return int(tenor.strip('m')) / 12\n",
    "    elif 'y' in tenor_str:\n",
    "        return int(tenor.strip('y'))\n",
    "    else:\n",
    "        raise ValueError(\"Unrecognized tenor format\")\n",
    "ois_data['Tenor'] = ois_data['Tenor'].apply(tenor_to_years)\n",
    "ois_data = pd.DataFrame(np.arange(1, 31), columns=['Tenor']).merge(ois_data, on='Tenor', how='outer').sort_values('Tenor').reset_index(drop=True)\n",
    "\n",
    "# Introduce and format new columns\n",
    "ois_data['OIS Forward Rate'] = np.nan\n",
    "ois_data['OIS Discount Factor'] = np.nan\n",
    "ois_data.rename(columns={'Product': 'OIS Table Product', 'Rate': 'OIS Rate'}, inplace=True)"
   ]
  },
  {
   "cell_type": "markdown",
   "metadata": {
    "collapsed": false
   },
   "source": [
    "To get first forward rate $f_o(0, 6m)$, we use the formula:\n",
    "$$PV_{\\text{fix}}^{6mOIS} = PV_{\\text{flt}}^{6mOIS}$$\n",
    "$$D_o(0, 6m) \\times 0.5 \\times 0.0025 = D_o(0, 6m) \\times \\left[\\left(1 + \\frac{f_o(0, 6m)}{360}\\right)^{180} - 1\\right]$$\n",
    "Then we can solve for $D_o(0, 6m)$ using $f_o(0, 6m)$"
   ]
  },
  {
   "cell_type": "code",
   "execution_count": 7,
   "metadata": {
    "ExecuteTime": {
     "end_time": "2024-03-30T13:22:06.891287Z",
     "start_time": "2024-03-30T13:22:06.889374Z"
    },
    "collapsed": false
   },
   "outputs": [],
   "source": [
    "# Constants\n",
    "days_per_year = 360\n",
    "\n",
    "# Calculate the first forward rate using the 6-month OIS rate\n",
    "ois_data.at[0, 'OIS Forward Rate'] = (((1 + (0.5 * ois_data.at[0, 'OIS Rate'])) ** (1 / (ois_data.at[0, 'Tenor'] * days_per_year))) - 1) * days_per_year\n",
    "\n",
    "# Calculate the first discount factor using the computed forward rate\n",
    "ois_data.at[0, 'OIS Discount Factor'] = (1 / (1 + (ois_data.at[0, 'OIS Forward Rate'] / days_per_year))) ** (ois_data.at[0, 'Tenor'] * days_per_year)"
   ]
  },
  {
   "cell_type": "markdown",
   "metadata": {
    "collapsed": false
   },
   "source": [
    "To get the second forward rate $f_o(6m, 1y)$, we use the formula:\n",
    "$$PV_{\\text{fix}}^{1yOIS} = PV_{\\text{flt}}^{1yOIS}$$\n",
    "$$\n",
    "D_o(0, 1y) \\times 0.003 = D_o(0, 1y) \\times \\left[\\left(1 + \\frac{f_o(0, 6m)}{360}\\right)^{180}\\left(1 + \\frac{f_o(6m, 1y)}{360}\\right)^{180} - 1\\right]\n",
    "$$\n",
    "Then we can solve for $D_o(0, 1y)$ using $f_o(0, 6m)$ and $f_o(6m, 1y)$"
   ]
  },
  {
   "cell_type": "code",
   "execution_count": 8,
   "metadata": {
    "ExecuteTime": {
     "end_time": "2024-03-30T13:22:06.894654Z",
     "start_time": "2024-03-30T13:22:06.892671Z"
    }
   },
   "outputs": [],
   "source": [
    "# Calculate the second forward rate using the 1-year OIS rate and the first forward rate\n",
    "ois_data.at[1, 'OIS Forward Rate'] = (((1 + ois_data.at[1, 'OIS Rate']) / \n",
    "                        ((1 + ois_data.at[0, 'OIS Forward Rate'] / days_per_year) ** 180)) ** (1 / 180) - 1) * days_per_year\n",
    "# Calculate the second discount factor using the first and second forward rates\n",
    "ois_data.at[1, 'OIS Discount Factor'] = ((1 / (1 + ( ois_data.at[0, 'OIS Forward Rate'] / days_per_year))) ** 180) * ((1 / (1 + (ois_data.at[1, 'OIS Forward Rate'] / days_per_year))) ** 180)"
   ]
  },
  {
   "cell_type": "markdown",
   "metadata": {
    "collapsed": false
   },
   "source": [
    "To get subsequent forward rates, we use the generalised formula:\n",
    "$$\n",
    "\\prod_{i=1}^{N} \\left(1 + \\Delta_{i-1} f_o(T_{i-1}, T_i)\\right) = 1 + \\Delta S_0\n",
    "$$\n",
    "and equating the fixed and floating legs at each tenor:\n",
    "$$PV_{\\text{fix}}^{OIS} = PV_{\\text{flt}}^{OIS}$$"
   ]
  },
  {
   "cell_type": "code",
   "execution_count": 9,
   "metadata": {
    "ExecuteTime": {
     "end_time": "2024-03-30T13:22:06.896889Z",
     "start_time": "2024-03-30T13:22:06.895123Z"
    }
   },
   "outputs": [],
   "source": [
    "def ois_df(x, i, h, ois_data, fix, flt):\n",
    "    # Calculate the difference between the previous discount factor and current discount factor flt_df\n",
    "    flt_x = ois_data.at[i-1, 'OIS Discount Factor'] - x\n",
    "    flx_dis_x = 0\n",
    "    # Generate an array of interpolated discount factors using linear interpolation\n",
    "    interpolated_discounts = x + (np.arange(h-i+1)/(h-i+1)) * flt_x\n",
    "    \n",
    "    # Sum up the interpolated discount factors to get the fixed leg discounted sum\n",
    "    fix_dis_x = np.sum(interpolated_discounts)\n",
    "    \n",
    "    # Calculate the fixed leg payment\n",
    "    fix_x = fix_dis_x * ois_data['OIS Rate'][h]\n",
    "    \n",
    "    # Return the difference between fixed and floating leg payments, adjusted by flt_x\n",
    "    return fix_x + fix - flt_x - flt"
   ]
  },
  {
   "cell_type": "code",
   "execution_count": 10,
   "metadata": {
    "ExecuteTime": {
     "end_time": "2024-03-30T13:22:06.902377Z",
     "start_time": "2024-03-30T13:22:06.897477Z"
    }
   },
   "outputs": [],
   "source": [
    "i = 2\n",
    "while i <= 30:\n",
    "    h = i\n",
    "    while np.isnan(ois_data['OIS Rate'][h]):\n",
    "        h += 1\n",
    "    k = 1\n",
    "    fix = 0\n",
    "    while k < i:\n",
    "        fix_i = ois_data.at[k, 'OIS Discount Factor']*ois_data.at[h, 'OIS Rate']\n",
    "        fix += fix_i\n",
    "        k+=1\n",
    "\n",
    "        # Calculate fixed and floating payments\n",
    "    flt = ois_data['OIS Rate'][i-1]*ois_data['OIS Discount Factor'][1:i].sum()\n",
    "        \n",
    "        # Define the function for Brent's method\n",
    "    f = lambda x: (ois_df(x, i, h, ois_data, fix, flt))\n",
    "        \n",
    "        # Use Brent's method to find the discount factor\n",
    "    D_l = brentq(f, 0, 1)\n",
    "\n",
    "        # Update discount factors and forward rates for the range [i, h]\n",
    "    for n in range(0, h-i+1):\n",
    "        df_index = i + n\n",
    "        ois_data.at[i+n, 'OIS Discount Factor'] = D_l + ((h-i-n)/(h-i+1))*(ois_data.at[i-1, 'OIS Discount Factor'] - D_l)\n",
    "        ois_data.at[i+n, 'OIS Forward Rate'] = 360*((ois_data.at[i+n-1, 'OIS Discount Factor'] / ois_data.at[i+n, 'OIS Discount Factor'])**(1/360)-1)\n",
    "\n",
    "        # Advance to the next tenor after the last non-NaN rate\n",
    "    i = h + 1"
   ]
  },
  {
   "cell_type": "code",
   "execution_count": 11,
   "metadata": {
    "ExecuteTime": {
     "end_time": "2024-03-30T13:22:06.908537Z",
     "start_time": "2024-03-30T13:22:06.903037Z"
    }
   },
   "outputs": [
    {
     "data": {
      "text/html": [
       "<div>\n",
       "<style scoped>\n",
       "    .dataframe tbody tr th:only-of-type {\n",
       "        vertical-align: middle;\n",
       "    }\n",
       "\n",
       "    .dataframe tbody tr th {\n",
       "        vertical-align: top;\n",
       "    }\n",
       "\n",
       "    .dataframe thead th {\n",
       "        text-align: right;\n",
       "    }\n",
       "</style>\n",
       "<table border=\"1\" class=\"dataframe\">\n",
       "  <thead>\n",
       "    <tr style=\"text-align: right;\">\n",
       "      <th></th>\n",
       "      <th>Tenor</th>\n",
       "      <th>OIS Table Product</th>\n",
       "      <th>OIS Rate</th>\n",
       "      <th>OIS Forward Rate</th>\n",
       "      <th>OIS Discount Factor</th>\n",
       "    </tr>\n",
       "  </thead>\n",
       "  <tbody>\n",
       "    <tr>\n",
       "      <th>0</th>\n",
       "      <td>0.5</td>\n",
       "      <td>OIS</td>\n",
       "      <td>0.00250</td>\n",
       "      <td>0.002498</td>\n",
       "      <td>0.998752</td>\n",
       "    </tr>\n",
       "    <tr>\n",
       "      <th>1</th>\n",
       "      <td>1.0</td>\n",
       "      <td>OIS</td>\n",
       "      <td>0.00300</td>\n",
       "      <td>0.003493</td>\n",
       "      <td>0.997009</td>\n",
       "    </tr>\n",
       "    <tr>\n",
       "      <th>2</th>\n",
       "      <td>2.0</td>\n",
       "      <td>OIS</td>\n",
       "      <td>0.00325</td>\n",
       "      <td>0.003495</td>\n",
       "      <td>0.993531</td>\n",
       "    </tr>\n",
       "    <tr>\n",
       "      <th>3</th>\n",
       "      <td>3.0</td>\n",
       "      <td>OIS</td>\n",
       "      <td>0.00335</td>\n",
       "      <td>0.003545</td>\n",
       "      <td>0.990015</td>\n",
       "    </tr>\n",
       "    <tr>\n",
       "      <th>4</th>\n",
       "      <td>4.0</td>\n",
       "      <td>OIS</td>\n",
       "      <td>0.00350</td>\n",
       "      <td>0.003946</td>\n",
       "      <td>0.986117</td>\n",
       "    </tr>\n",
       "    <tr>\n",
       "      <th>5</th>\n",
       "      <td>5.0</td>\n",
       "      <td>OIS</td>\n",
       "      <td>0.00360</td>\n",
       "      <td>0.003996</td>\n",
       "      <td>0.982184</td>\n",
       "    </tr>\n",
       "    <tr>\n",
       "      <th>7</th>\n",
       "      <td>7.0</td>\n",
       "      <td>OIS</td>\n",
       "      <td>0.00400</td>\n",
       "      <td>0.005015</td>\n",
       "      <td>0.972406</td>\n",
       "    </tr>\n",
       "    <tr>\n",
       "      <th>10</th>\n",
       "      <td>10.0</td>\n",
       "      <td>OIS</td>\n",
       "      <td>0.00450</td>\n",
       "      <td>0.005712</td>\n",
       "      <td>0.955977</td>\n",
       "    </tr>\n",
       "    <tr>\n",
       "      <th>15</th>\n",
       "      <td>15.0</td>\n",
       "      <td>OIS</td>\n",
       "      <td>0.00500</td>\n",
       "      <td>0.006097</td>\n",
       "      <td>0.927611</td>\n",
       "    </tr>\n",
       "    <tr>\n",
       "      <th>20</th>\n",
       "      <td>20.0</td>\n",
       "      <td>OIS</td>\n",
       "      <td>0.00525</td>\n",
       "      <td>0.006100</td>\n",
       "      <td>0.900076</td>\n",
       "    </tr>\n",
       "    <tr>\n",
       "      <th>30</th>\n",
       "      <td>30.0</td>\n",
       "      <td>OIS</td>\n",
       "      <td>0.00550</td>\n",
       "      <td>0.006196</td>\n",
       "      <td>0.847407</td>\n",
       "    </tr>\n",
       "  </tbody>\n",
       "</table>\n",
       "</div>"
      ],
      "text/plain": [
       "    Tenor OIS Table Product  OIS Rate  OIS Forward Rate  OIS Discount Factor\n",
       "0     0.5               OIS   0.00250          0.002498             0.998752\n",
       "1     1.0               OIS   0.00300          0.003493             0.997009\n",
       "2     2.0               OIS   0.00325          0.003495             0.993531\n",
       "3     3.0               OIS   0.00335          0.003545             0.990015\n",
       "4     4.0               OIS   0.00350          0.003946             0.986117\n",
       "5     5.0               OIS   0.00360          0.003996             0.982184\n",
       "7     7.0               OIS   0.00400          0.005015             0.972406\n",
       "10   10.0               OIS   0.00450          0.005712             0.955977\n",
       "15   15.0               OIS   0.00500          0.006097             0.927611\n",
       "20   20.0               OIS   0.00525          0.006100             0.900076\n",
       "30   30.0               OIS   0.00550          0.006196             0.847407"
      ]
     },
     "execution_count": 11,
     "metadata": {},
     "output_type": "execute_result"
    }
   ],
   "source": [
    "ois_data_final = ois_data.dropna()\n",
    "ois_data_final"
   ]
  },
  {
   "cell_type": "code",
   "execution_count": 41,
   "metadata": {
    "ExecuteTime": {
     "end_time": "2024-03-30T13:22:06.938958Z",
     "start_time": "2024-03-30T13:22:06.909026Z"
    }
   },
   "outputs": [],
   "source": [
    "terms = np.linspace(0, 30, 1200)\n",
    "from scipy.interpolate import CubicSpline\n",
    "\n",
    "# Create a cubic spline function based on the tenor and discount factors\n",
    "cs = CubicSpline(ois_data['Tenor'].values, ois_data['OIS Discount Factor'].values)\n",
    "\n",
    "# Evaluate the spline function over the range of terms to get interpolated discount factors\n",
    "interpolated_discount_factors = cs(terms)"
   ]
  },
  {
   "cell_type": "code",
   "execution_count": 43,
   "metadata": {
    "ExecuteTime": {
     "end_time": "2024-03-30T13:22:07.070567Z",
     "start_time": "2024-03-30T13:22:06.939616Z"
    },
    "scrolled": false
   },
   "outputs": [
    {
     "data": {
      "image/png": "[encoded data removed]",
      "text/plain": [
       "<Figure size 1200x700 with 1 Axes>"
      ]
     },
     "metadata": {},
     "output_type": "display_data"
    }
   ],
   "source": [
    "plt.figure(figsize=(12, 7))\n",
    "plt.plot(terms, interpolated_discount_factors, label='Discount Curve', color='blue')\n",
    "plt.scatter(ois_data_final['Tenor'], ois_data_final['OIS Discount Factor'], color='red', label='Observed Data Points')\n",
    "plt.title('OIS Discount Curve')\n",
    "plt.xlabel('Term (Years)')\n",
    "plt.ylabel('OIS Discount Factor')\n",
    "plt.legend()\n",
    "plt.grid(True)\n",
    "plt.show()"
   ]
  },
  {
   "cell_type": "markdown",
   "metadata": {},
   "source": [
    "## Question 2"
   ]
  },
  {
   "cell_type": "code",
   "execution_count": 15,
   "metadata": {
    "ExecuteTime": {
     "end_time": "2024-03-30T13:22:07.076701Z",
     "start_time": "2024-03-30T13:22:07.071866Z"
    }
   },
   "outputs": [],
   "source": [
    "# Get IRS data\n",
    "irs_data = pd.read_excel(\"IR Data.xlsx\", sheet_name = \"IRS\").drop(columns = ['Unnamed: 3', 'Unnamed: 4', 'Unnamed: 5'])"
   ]
  },
  {
   "cell_type": "code",
   "execution_count": 16,
   "metadata": {
    "ExecuteTime": {
     "end_time": "2024-03-30T13:22:07.086338Z",
     "start_time": "2024-03-30T13:22:07.077850Z"
    },
    "collapsed": false
   },
   "outputs": [],
   "source": [
    "# Parse Tenors\n",
    "def tenor_to_years(tenor):\n",
    "    tenor_str = str(tenor)\n",
    "    if 'm' in tenor_str:\n",
    "        return int(tenor.strip('m')) / 12\n",
    "    elif 'y' in tenor_str:\n",
    "        return int(tenor.strip('y'))\n",
    "    else:\n",
    "        raise ValueError(\"Unrecognized tenor format\")\n",
    "irs_data['Tenor'] = irs_data['Tenor'].apply(tenor_to_years)\n",
    "irs_data = pd.DataFrame(np.arange(0.5, 30.5, 0.5), columns=['Tenor']).merge(irs_data, on='Tenor', how='outer').sort_values('Tenor').reset_index(drop=True)\n",
    "ois_data_final = pd.DataFrame(np.arange(0.5, 30.5, 0.5), columns=['Tenor']).merge(ois_data_final, on='Tenor', how='outer').sort_values('Tenor').reset_index(drop=True)\n",
    "oisirs_data = pd.merge(ois_data_final, irs_data, on = 'Tenor', how = 'left')\n",
    "\n",
    "# Introduce new columns\n",
    "oisirs_data['LIBOR Forward Rate'] = np.nan\n",
    "oisirs_data['LIBOR Discount Factor'] = np.nan\n",
    "oisirs_data.rename(columns={'Product': 'IRS Table Product', 'Rate': 'IRS Rate'}, inplace=True)"
   ]
  },
  {
   "cell_type": "markdown",
   "metadata": {
    "collapsed": false
   },
   "source": [
    " Given forward LIBOR rate $L(0, 6m)$, we use the formula:\n",
    "$$ D(0, 6m) = \\frac{1}{1+0.5*L(0,6m)}$$\n",
    "to solve for first discount factor $D(0, 6m)$"
   ]
  },
  {
   "cell_type": "code",
   "execution_count": 17,
   "metadata": {
    "ExecuteTime": {
     "end_time": "2024-03-30T13:22:07.091403Z",
     "start_time": "2024-03-30T13:22:07.087633Z"
    },
    "collapsed": false
   },
   "outputs": [],
   "source": [
    "# Get the first forward rate using the 6-month LIBOR IRS rate\n",
    "oisirs_data.at[0, 'LIBOR Forward Rate'] = oisirs_data.at[0,'IRS Rate']\n",
    "\n",
    "# Calculate the first discount factor using the computed forward rate\n",
    "oisirs_data.at[0, 'LIBOR Discount Factor'] = 1 / (1 + oisirs_data.at[0, 'IRS Rate'] * (oisirs_data.at[0, 'Tenor']))"
   ]
  },
  {
   "cell_type": "markdown",
   "metadata": {
    "collapsed": false
   },
   "source": [
    "To get the second forward LIBOR rate $L(6m, 1y)$, we use the formula:\n",
    "$$PV_{\\text{fix}}^{2yIRS} = PV_{\\text{flt}}^{2yIRS}$$\n",
    "$$\n",
    "0.5 \\times 0.025 \\times [D_o(0, 6m) + D_o(0, 1y)]= 0.5 \\times [(D_o(0, 6m) \\times L(0, 6m)) + (D_o(0, 1y) \\times L(6m, 1y))]\n",
    "$$\n",
    "Then we can solve for $D(0, 1y)$ using $L(6m, 1y)$"
   ]
  },
  {
   "cell_type": "code",
   "execution_count": 18,
   "metadata": {
    "ExecuteTime": {
     "end_time": "2024-03-30T13:22:07.108641Z",
     "start_time": "2024-03-30T13:22:07.104905Z"
    },
    "collapsed": false
   },
   "outputs": [],
   "source": [
    "# Calculate the second forward rate using the 1-year OIS discount rate and the first forward rate\n",
    "oisirs_data.at[1, 'LIBOR Forward Rate'] =  (oisirs_data.at[1,'IRS Rate'] * (oisirs_data.at[0,'OIS Discount Factor'] + oisirs_data.at[1,'OIS Discount Factor']) - (oisirs_data.at[0,'LIBOR Forward Rate'] * oisirs_data.at[0,'OIS Discount Factor'])) / oisirs_data.at[1,'OIS Discount Factor']\n",
    "\n",
    "# Calculate the second discount factor using the first and second forward rates\n",
    "oisirs_data.at[1, 'LIBOR Discount Factor'] = (1 / (1 + oisirs_data.at[0, 'Tenor'] * oisirs_data.at[0, 'LIBOR Forward Rate'])  * (1 / (1 + oisirs_data.at[0, 'Tenor'] * oisirs_data.at[1, 'LIBOR Forward Rate'])))\n",
    "oisirs_data['OIS Discount Factor'].interpolate(method = 'linear', inplace = True)"
   ]
  },
  {
   "cell_type": "markdown",
   "metadata": {
    "collapsed": false
   },
   "source": [
    "To get subsequent forward LIBOR and discount rates, we use the generalised formula:\n",
    "$$\n",
    "K \\sum_{i=1}^{n} \\Delta_{i-1} D(0, T_i) = \\sum_{i=1}^{n} D(0, T_i) \\Delta_{i-1} L(T_{i-1}, T_i)\n",
    "$$\n",
    "which equates the fixed and floating legs at each tenor:\n",
    "$$PV_{\\text{fix}}^{IRS} = PV_{\\text{flt}}^{IRS}$$"
   ]
  },
  {
   "cell_type": "code",
   "execution_count": 19,
   "metadata": {
    "ExecuteTime": {
     "end_time": "2024-03-30T13:22:07.113217Z",
     "start_time": "2024-03-30T13:22:07.110762Z"
    }
   },
   "outputs": [],
   "source": [
    "def libor_df(x):\n",
    "    df_diff = oisirs_data['LIBOR Discount Factor'][i-2] - x\n",
    "    df_p = [oisirs_data['LIBOR Discount Factor'][i-2]]\n",
    "    libor_payment = []\n",
    "    for n in range(0, h-i+2):\n",
    "        df_c = x + ((h - i - n + 1)/(h - i + 2)) * df_diff\n",
    "        libor = 0.5 * (2 * (df_p[-1] - df_c) / df_c) * oisirs_data['OIS Discount Factor'][i-1+n]\n",
    "        df_p.append(df_c)\n",
    "        libor_payment.append(libor)\n",
    "    flt_x = sum(libor_payment)\n",
    "    return flt_x + flt - fix"
   ]
  },
  {
   "cell_type": "code",
   "execution_count": 20,
   "metadata": {
    "ExecuteTime": {
     "end_time": "2024-03-30T13:22:07.136509Z",
     "start_time": "2024-03-30T13:22:07.114513Z"
    }
   },
   "outputs": [],
   "source": [
    "i = 3\n",
    "while i <= 60:\n",
    "    h = i\n",
    "    # Ensure h is within the DataFrame index range\n",
    "    while np.isnan(oisirs_data['IRS Rate'][h]):\n",
    "        h += 2\n",
    "    fix = 0.5 * oisirs_data['IRS Rate'][h] * oisirs_data['OIS Discount Factor'][0 : h + 1].sum()\n",
    "    flt = 0\n",
    "    k = 0\n",
    "    while k <= i-2:\n",
    "        flt_i = 0.5 * oisirs_data['OIS Discount Factor'][k] * oisirs_data['LIBOR Forward Rate'][k]\n",
    "        flt += flt_i\n",
    "        k += 1\n",
    "        \n",
    "    f = lambda x: libor_df(x)\n",
    "    df_libor = brentq(f, 0, 1)\n",
    "    for n in range(0, h - i + 2):\n",
    "#         if i-1+n < len(oisirs_data):  # Ensure the index is within the DataFrame\n",
    "            oisirs_data['LIBOR Discount Factor'][i-1+n] = df_libor + ((h- i - n + 1)/(h -i + 2))*(oisirs_data['LIBOR Discount Factor'][i-2] - df_libor)\n",
    "            oisirs_data['LIBOR Forward Rate'][i-1+n] = (oisirs_data['LIBOR Discount Factor'][i - 2 + n] - oisirs_data['LIBOR Discount Factor'][i - 1 + n]) / (0.5 * oisirs_data['LIBOR Discount Factor'][i - 1 + n])\n",
    "    i = h + 2"
   ]
  },
  {
   "cell_type": "code",
   "execution_count": 21,
   "metadata": {
    "ExecuteTime": {
     "end_time": "2024-03-30T13:22:07.146399Z",
     "start_time": "2024-03-30T13:22:07.137684Z"
    },
    "scrolled": false
   },
   "outputs": [
    {
     "data": {
      "text/html": [
       "<div>\n",
       "<style scoped>\n",
       "    .dataframe tbody tr th:only-of-type {\n",
       "        vertical-align: middle;\n",
       "    }\n",
       "\n",
       "    .dataframe tbody tr th {\n",
       "        vertical-align: top;\n",
       "    }\n",
       "\n",
       "    .dataframe thead th {\n",
       "        text-align: right;\n",
       "    }\n",
       "</style>\n",
       "<table border=\"1\" class=\"dataframe\">\n",
       "  <thead>\n",
       "    <tr style=\"text-align: right;\">\n",
       "      <th></th>\n",
       "      <th>Tenor</th>\n",
       "      <th>OIS Table Product</th>\n",
       "      <th>OIS Rate</th>\n",
       "      <th>OIS Forward Rate</th>\n",
       "      <th>OIS Discount Factor</th>\n",
       "      <th>IRS Table Product</th>\n",
       "      <th>IRS Rate</th>\n",
       "      <th>LIBOR Forward Rate</th>\n",
       "      <th>LIBOR Discount Factor</th>\n",
       "    </tr>\n",
       "  </thead>\n",
       "  <tbody>\n",
       "    <tr>\n",
       "      <th>0</th>\n",
       "      <td>0.5</td>\n",
       "      <td>OIS</td>\n",
       "      <td>0.00250</td>\n",
       "      <td>0.002498</td>\n",
       "      <td>0.998752</td>\n",
       "      <td>LIBOR</td>\n",
       "      <td>0.0250</td>\n",
       "      <td>0.025000</td>\n",
       "      <td>0.987654</td>\n",
       "    </tr>\n",
       "    <tr>\n",
       "      <th>1</th>\n",
       "      <td>1.0</td>\n",
       "      <td>OIS</td>\n",
       "      <td>0.00300</td>\n",
       "      <td>0.003493</td>\n",
       "      <td>0.997009</td>\n",
       "      <td>IRS</td>\n",
       "      <td>0.0280</td>\n",
       "      <td>0.031005</td>\n",
       "      <td>0.972577</td>\n",
       "    </tr>\n",
       "    <tr>\n",
       "      <th>3</th>\n",
       "      <td>2.0</td>\n",
       "      <td>OIS</td>\n",
       "      <td>0.00325</td>\n",
       "      <td>0.003495</td>\n",
       "      <td>0.993531</td>\n",
       "      <td>IRS</td>\n",
       "      <td>0.0300</td>\n",
       "      <td>0.032263</td>\n",
       "      <td>0.942179</td>\n",
       "    </tr>\n",
       "    <tr>\n",
       "      <th>5</th>\n",
       "      <td>3.0</td>\n",
       "      <td>OIS</td>\n",
       "      <td>0.00335</td>\n",
       "      <td>0.003545</td>\n",
       "      <td>0.990015</td>\n",
       "      <td>IRS</td>\n",
       "      <td>0.0315</td>\n",
       "      <td>0.034814</td>\n",
       "      <td>0.910482</td>\n",
       "    </tr>\n",
       "    <tr>\n",
       "      <th>7</th>\n",
       "      <td>4.0</td>\n",
       "      <td>OIS</td>\n",
       "      <td>0.00350</td>\n",
       "      <td>0.003946</td>\n",
       "      <td>0.986117</td>\n",
       "      <td>IRS</td>\n",
       "      <td>0.0325</td>\n",
       "      <td>0.035838</td>\n",
       "      <td>0.878981</td>\n",
       "    </tr>\n",
       "    <tr>\n",
       "      <th>9</th>\n",
       "      <td>5.0</td>\n",
       "      <td>OIS</td>\n",
       "      <td>0.00360</td>\n",
       "      <td>0.003996</td>\n",
       "      <td>0.982184</td>\n",
       "      <td>IRS</td>\n",
       "      <td>0.0330</td>\n",
       "      <td>0.035326</td>\n",
       "      <td>0.848989</td>\n",
       "    </tr>\n",
       "    <tr>\n",
       "      <th>13</th>\n",
       "      <td>7.0</td>\n",
       "      <td>OIS</td>\n",
       "      <td>0.00400</td>\n",
       "      <td>0.005015</td>\n",
       "      <td>0.972406</td>\n",
       "      <td>IRS</td>\n",
       "      <td>0.0350</td>\n",
       "      <td>0.041298</td>\n",
       "      <td>0.784216</td>\n",
       "    </tr>\n",
       "    <tr>\n",
       "      <th>19</th>\n",
       "      <td>10.0</td>\n",
       "      <td>OIS</td>\n",
       "      <td>0.00450</td>\n",
       "      <td>0.005712</td>\n",
       "      <td>0.955977</td>\n",
       "      <td>IRS</td>\n",
       "      <td>0.0370</td>\n",
       "      <td>0.044033</td>\n",
       "      <td>0.692710</td>\n",
       "    </tr>\n",
       "    <tr>\n",
       "      <th>29</th>\n",
       "      <td>15.0</td>\n",
       "      <td>OIS</td>\n",
       "      <td>0.00500</td>\n",
       "      <td>0.006097</td>\n",
       "      <td>0.927611</td>\n",
       "      <td>IRS</td>\n",
       "      <td>0.0400</td>\n",
       "      <td>0.051401</td>\n",
       "      <td>0.551081</td>\n",
       "    </tr>\n",
       "    <tr>\n",
       "      <th>39</th>\n",
       "      <td>20.0</td>\n",
       "      <td>OIS</td>\n",
       "      <td>0.00525</td>\n",
       "      <td>0.006100</td>\n",
       "      <td>0.900076</td>\n",
       "      <td>IRS</td>\n",
       "      <td>0.0450</td>\n",
       "      <td>0.069994</td>\n",
       "      <td>0.408218</td>\n",
       "    </tr>\n",
       "    <tr>\n",
       "      <th>59</th>\n",
       "      <td>30.0</td>\n",
       "      <td>OIS</td>\n",
       "      <td>0.00550</td>\n",
       "      <td>0.006196</td>\n",
       "      <td>0.847407</td>\n",
       "      <td>IRS</td>\n",
       "      <td>0.0500</td>\n",
       "      <td>0.082515</td>\n",
       "      <td>0.223662</td>\n",
       "    </tr>\n",
       "  </tbody>\n",
       "</table>\n",
       "</div>"
      ],
      "text/plain": [
       "    Tenor OIS Table Product  OIS Rate  OIS Forward Rate  OIS Discount Factor  \\\n",
       "0     0.5               OIS   0.00250          0.002498             0.998752   \n",
       "1     1.0               OIS   0.00300          0.003493             0.997009   \n",
       "3     2.0               OIS   0.00325          0.003495             0.993531   \n",
       "5     3.0               OIS   0.00335          0.003545             0.990015   \n",
       "7     4.0               OIS   0.00350          0.003946             0.986117   \n",
       "9     5.0               OIS   0.00360          0.003996             0.982184   \n",
       "13    7.0               OIS   0.00400          0.005015             0.972406   \n",
       "19   10.0               OIS   0.00450          0.005712             0.955977   \n",
       "29   15.0               OIS   0.00500          0.006097             0.927611   \n",
       "39   20.0               OIS   0.00525          0.006100             0.900076   \n",
       "59   30.0               OIS   0.00550          0.006196             0.847407   \n",
       "\n",
       "   IRS Table Product  IRS Rate  LIBOR Forward Rate  LIBOR Discount Factor  \n",
       "0              LIBOR    0.0250            0.025000               0.987654  \n",
       "1                IRS    0.0280            0.031005               0.972577  \n",
       "3                IRS    0.0300            0.032263               0.942179  \n",
       "5                IRS    0.0315            0.034814               0.910482  \n",
       "7                IRS    0.0325            0.035838               0.878981  \n",
       "9                IRS    0.0330            0.035326               0.848989  \n",
       "13               IRS    0.0350            0.041298               0.784216  \n",
       "19               IRS    0.0370            0.044033               0.692710  \n",
       "29               IRS    0.0400            0.051401               0.551081  \n",
       "39               IRS    0.0450            0.069994               0.408218  \n",
       "59               IRS    0.0500            0.082515               0.223662  "
      ]
     },
     "execution_count": 21,
     "metadata": {},
     "output_type": "execute_result"
    }
   ],
   "source": [
    "oisirs_data_final = oisirs_data.dropna()\n",
    "oisirs_data_final"
   ]
  },
  {
   "cell_type": "code",
   "execution_count": 28,
   "metadata": {
    "ExecuteTime": {
     "end_time": "2024-03-30T13:22:07.166795Z",
     "start_time": "2024-03-30T13:22:07.148204Z"
    },
    "scrolled": false
   },
   "outputs": [],
   "source": [
    "oisirs_data_final.to_csv(\"discount_factors.csv\", index=False)"
   ]
  },
  {
   "cell_type": "code",
   "execution_count": 23,
   "metadata": {
    "ExecuteTime": {
     "end_time": "2024-03-30T13:22:07.170735Z",
     "start_time": "2024-03-30T13:22:07.167997Z"
    }
   },
   "outputs": [],
   "source": [
    "terms = np.linspace(0, 30, 1200)\n",
    "from scipy.interpolate import CubicSpline\n",
    "\n",
    "# Create a cubic spline function based on the tenor and discount factors\n",
    "cs = CubicSpline(oisirs_data_final['Tenor'].values, oisirs_data_final['LIBOR Discount Factor'].values)\n",
    "\n",
    "# Evaluate the spline function over the range of terms to get interpolated discount factors\n",
    "interpolated_discount_factors = cs(terms)"
   ]
  },
  {
   "cell_type": "code",
   "execution_count": 24,
   "metadata": {
    "ExecuteTime": {
     "end_time": "2024-03-30T13:22:07.283273Z",
     "start_time": "2024-03-30T13:22:07.171564Z"
    },
    "scrolled": false
   },
   "outputs": [
    {
     "data": {
      "image/png": "[encoded data removed]",
      "text/plain": [
       "<Figure size 1200x700 with 1 Axes>"
      ]
     },
     "metadata": {},
     "output_type": "display_data"
    }
   ],
   "source": [
    "plt.figure(figsize=(12, 7))\n",
    "plt.plot(terms, interpolated_discount_factors, label='Discount Curve', color='pink')\n",
    "plt.scatter(oisirs_data_final['Tenor'], oisirs_data_final['LIBOR Discount Factor'], color='green', label='Observed Data Points')\n",
    "plt.title('IRS Discount Curve')\n",
    "plt.xlabel('Term (Years)')\n",
    "plt.ylabel('Discount Factor')\n",
    "plt.legend()\n",
    "plt.grid(True)\n",
    "plt.show()"
   ]
  },
  {
   "cell_type": "markdown",
   "metadata": {},
   "source": [
    "## Question 3"
   ]
  },
  {
   "cell_type": "markdown",
   "metadata": {
    "collapsed": false
   },
   "source": [
    "To calculate the par swap rate, we use the formula: \n",
    "$$ S(T_i,T_{i+m}) = \\frac{0.5*\\sum_{n=i+1}^{i+m} {D_o(0,T_n)*L(T_{n-0.5},T_n)}}{0.5*\\sum_{n=i+1}^{i+m} D_o(0,T_n)}$$"
   ]
  },
  {
   "cell_type": "code",
   "execution_count": 25,
   "metadata": {
    "ExecuteTime": {
     "end_time": "2024-03-30T13:22:07.286879Z",
     "start_time": "2024-03-30T13:22:07.284574Z"
    }
   },
   "outputs": [],
   "source": [
    "expiry = ['1Y', '5Y', '10Y']\n",
    "tenors = ['1Y', \"2Y\", '3Y', '5Y', '10Y']"
   ]
  },
  {
   "cell_type": "code",
   "execution_count": 26,
   "metadata": {
    "ExecuteTime": {
     "end_time": "2024-03-30T13:22:07.291601Z",
     "start_time": "2024-03-30T13:22:07.287883Z"
    }
   },
   "outputs": [],
   "source": [
    "par_swap_rate = []\n",
    "for expiries in expiry:\n",
    "    for tenor in tenors:\n",
    "        # Remove 'Y'\n",
    "        i = int(expiries.strip()[:-1]) \n",
    "        j = int(tenor.strip()[:-1])\n",
    "        \n",
    "        fix = 0.5*sum(oisirs_data['OIS Discount Factor'][2*i:2*(i+j)])\n",
    "        \n",
    "        terms = []\n",
    "        for x in range(2*i, 2*(i+j)):\n",
    "            flt = oisirs_data['OIS Discount Factor'][x] * (oisirs_data['LIBOR Discount Factor'][x-1] - oisirs_data['LIBOR Discount Factor'][x])/oisirs_data['LIBOR Discount Factor'][x]\n",
    "            terms.append(flt)\n",
    "        flt_payment = sum(terms)\n",
    "        \n",
    "        par_swap_rate.append(flt_payment/fix)"
   ]
  },
  {
   "cell_type": "code",
   "execution_count": 27,
   "metadata": {
    "ExecuteTime": {
     "end_time": "2024-03-30T13:22:07.297003Z",
     "start_time": "2024-03-30T13:22:07.292471Z"
    }
   },
   "outputs": [
    {
     "data": {
      "text/html": [
       "<div>\n",
       "<style scoped>\n",
       "    .dataframe tbody tr th:only-of-type {\n",
       "        vertical-align: middle;\n",
       "    }\n",
       "\n",
       "    .dataframe tbody tr th {\n",
       "        vertical-align: top;\n",
       "    }\n",
       "\n",
       "    .dataframe thead th {\n",
       "        text-align: right;\n",
       "    }\n",
       "</style>\n",
       "<table border=\"1\" class=\"dataframe\">\n",
       "  <thead>\n",
       "    <tr style=\"text-align: right;\">\n",
       "      <th></th>\n",
       "      <th>1Y</th>\n",
       "      <th>2Y</th>\n",
       "      <th>3Y</th>\n",
       "      <th>5Y</th>\n",
       "      <th>10Y</th>\n",
       "    </tr>\n",
       "  </thead>\n",
       "  <tbody>\n",
       "    <tr>\n",
       "      <th>1Y</th>\n",
       "      <td>0.032007</td>\n",
       "      <td>0.033259</td>\n",
       "      <td>0.034011</td>\n",
       "      <td>0.035255</td>\n",
       "      <td>0.038428</td>\n",
       "    </tr>\n",
       "    <tr>\n",
       "      <th>5Y</th>\n",
       "      <td>0.039274</td>\n",
       "      <td>0.040075</td>\n",
       "      <td>0.040072</td>\n",
       "      <td>0.041093</td>\n",
       "      <td>0.043634</td>\n",
       "    </tr>\n",
       "    <tr>\n",
       "      <th>10Y</th>\n",
       "      <td>0.042189</td>\n",
       "      <td>0.043116</td>\n",
       "      <td>0.044097</td>\n",
       "      <td>0.046249</td>\n",
       "      <td>0.053458</td>\n",
       "    </tr>\n",
       "  </tbody>\n",
       "</table>\n",
       "</div>"
      ],
      "text/plain": [
       "           1Y        2Y        3Y        5Y       10Y\n",
       "1Y   0.032007  0.033259  0.034011  0.035255  0.038428\n",
       "5Y   0.039274  0.040075  0.040072  0.041093  0.043634\n",
       "10Y  0.042189  0.043116  0.044097  0.046249  0.053458"
      ]
     },
     "execution_count": 27,
     "metadata": {},
     "output_type": "execute_result"
    }
   ],
   "source": [
    "par_swap_rate_table = np.array(par_swap_rate).reshape(3, 5)\n",
    "par_swap_rate = pd.DataFrame(par_swap_rate_table, columns = tenors, index = expiry)\n",
    "par_swap_rate"
   ]
  },
  {
   "cell_type": "code",
   "execution_count": 30,
   "metadata": {},
   "outputs": [],
   "source": [
    "par_swap_rate.to_csv(\"par_swap_rate.csv\")"
   ]
  }
 ],
 "metadata": {
  "kernelspec": {
   "display_name": "Python 3",
   "language": "python",
   "name": "python3"
  },
  "language_info": {
   "codemirror_mode": {
    "name": "ipython",
    "version": 3
   },
   "file_extension": ".py",
   "mimetype": "text/x-python",
   "name": "python",
   "nbconvert_exporter": "python",
   "pygments_lexer": "ipython3",
   "version": "3.11.3"
  }
 },
 "nbformat": 4,
 "nbformat_minor": 4
}
