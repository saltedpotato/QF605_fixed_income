{
 "cells": [
  {
   "cell_type": "code",
   "execution_count": 1,
   "id": "67e9b451",
   "metadata": {},
   "outputs": [],
   "source": [
    "import numpy as np\n",
    "import pandas as pd\n",
    "import matplotlib.pyplot as plt\n",
    "from scipy.optimize import brentq, least_squares\n",
    "from scipy.stats import norm\n",
    "from scipy.integrate import quad\n",
    "from math import log, exp, sqrt\n",
    "from scipy import interpolate\n",
    "from scipy.interpolate import CubicSpline"
   ]
  },
  {
   "cell_type": "code",
   "execution_count": 2,
   "id": "c8316757",
   "metadata": {
    "scrolled": true
   },
   "outputs": [
    {
     "data": {
      "text/html": [
       "<div>\n",
       "<style scoped>\n",
       "    .dataframe tbody tr th:only-of-type {\n",
       "        vertical-align: middle;\n",
       "    }\n",
       "\n",
       "    .dataframe tbody tr th {\n",
       "        vertical-align: top;\n",
       "    }\n",
       "\n",
       "    .dataframe thead th {\n",
       "        text-align: right;\n",
       "    }\n",
       "</style>\n",
       "<table border=\"1\" class=\"dataframe\">\n",
       "  <thead>\n",
       "    <tr style=\"text-align: right;\">\n",
       "      <th></th>\n",
       "      <th>Tenor</th>\n",
       "      <th>Product_x</th>\n",
       "      <th>OIS Rate</th>\n",
       "      <th>OIS Forward Rate</th>\n",
       "      <th>OIS Discount Factor</th>\n",
       "      <th>Product_y</th>\n",
       "      <th>IRS Rate</th>\n",
       "      <th>IRS Forward Rate</th>\n",
       "      <th>IRS Discount Factor</th>\n",
       "    </tr>\n",
       "  </thead>\n",
       "  <tbody>\n",
       "    <tr>\n",
       "      <th>0</th>\n",
       "      <td>0.5</td>\n",
       "      <td>OIS</td>\n",
       "      <td>0.00250</td>\n",
       "      <td>0.002498</td>\n",
       "      <td>0.998752</td>\n",
       "      <td>LIBOR</td>\n",
       "      <td>0.0250</td>\n",
       "      <td>0.025000</td>\n",
       "      <td>0.987654</td>\n",
       "    </tr>\n",
       "    <tr>\n",
       "      <th>1</th>\n",
       "      <td>1.0</td>\n",
       "      <td>OIS</td>\n",
       "      <td>0.00300</td>\n",
       "      <td>0.002995</td>\n",
       "      <td>0.996520</td>\n",
       "      <td>IRS</td>\n",
       "      <td>0.0280</td>\n",
       "      <td>0.031007</td>\n",
       "      <td>0.972576</td>\n",
       "    </tr>\n",
       "    <tr>\n",
       "      <th>2</th>\n",
       "      <td>2.0</td>\n",
       "      <td>OIS</td>\n",
       "      <td>0.00325</td>\n",
       "      <td>0.003495</td>\n",
       "      <td>0.993043</td>\n",
       "      <td>IRS</td>\n",
       "      <td>0.0300</td>\n",
       "      <td>0.032264</td>\n",
       "      <td>0.942178</td>\n",
       "    </tr>\n",
       "    <tr>\n",
       "      <th>3</th>\n",
       "      <td>3.0</td>\n",
       "      <td>OIS</td>\n",
       "      <td>0.00335</td>\n",
       "      <td>0.003545</td>\n",
       "      <td>0.989529</td>\n",
       "      <td>IRS</td>\n",
       "      <td>0.0315</td>\n",
       "      <td>0.034814</td>\n",
       "      <td>0.910480</td>\n",
       "    </tr>\n",
       "    <tr>\n",
       "      <th>4</th>\n",
       "      <td>4.0</td>\n",
       "      <td>OIS</td>\n",
       "      <td>0.00350</td>\n",
       "      <td>0.003946</td>\n",
       "      <td>0.985633</td>\n",
       "      <td>IRS</td>\n",
       "      <td>0.0325</td>\n",
       "      <td>0.035838</td>\n",
       "      <td>0.878979</td>\n",
       "    </tr>\n",
       "    <tr>\n",
       "      <th>5</th>\n",
       "      <td>5.0</td>\n",
       "      <td>OIS</td>\n",
       "      <td>0.00360</td>\n",
       "      <td>0.003996</td>\n",
       "      <td>0.981702</td>\n",
       "      <td>IRS</td>\n",
       "      <td>0.0330</td>\n",
       "      <td>0.035326</td>\n",
       "      <td>0.848988</td>\n",
       "    </tr>\n",
       "    <tr>\n",
       "      <th>6</th>\n",
       "      <td>7.0</td>\n",
       "      <td>OIS</td>\n",
       "      <td>0.00400</td>\n",
       "      <td>0.005015</td>\n",
       "      <td>0.971928</td>\n",
       "      <td>IRS</td>\n",
       "      <td>0.0350</td>\n",
       "      <td>0.041298</td>\n",
       "      <td>0.784214</td>\n",
       "    </tr>\n",
       "    <tr>\n",
       "      <th>7</th>\n",
       "      <td>10.0</td>\n",
       "      <td>OIS</td>\n",
       "      <td>0.00450</td>\n",
       "      <td>0.005712</td>\n",
       "      <td>0.955508</td>\n",
       "      <td>IRS</td>\n",
       "      <td>0.0370</td>\n",
       "      <td>0.044033</td>\n",
       "      <td>0.692708</td>\n",
       "    </tr>\n",
       "    <tr>\n",
       "      <th>8</th>\n",
       "      <td>15.0</td>\n",
       "      <td>OIS</td>\n",
       "      <td>0.00500</td>\n",
       "      <td>0.006097</td>\n",
       "      <td>0.927156</td>\n",
       "      <td>IRS</td>\n",
       "      <td>0.0400</td>\n",
       "      <td>0.051401</td>\n",
       "      <td>0.551079</td>\n",
       "    </tr>\n",
       "    <tr>\n",
       "      <th>9</th>\n",
       "      <td>20.0</td>\n",
       "      <td>OIS</td>\n",
       "      <td>0.00525</td>\n",
       "      <td>0.006100</td>\n",
       "      <td>0.899634</td>\n",
       "      <td>IRS</td>\n",
       "      <td>0.0450</td>\n",
       "      <td>0.069994</td>\n",
       "      <td>0.408216</td>\n",
       "    </tr>\n",
       "    <tr>\n",
       "      <th>10</th>\n",
       "      <td>30.0</td>\n",
       "      <td>OIS</td>\n",
       "      <td>0.00550</td>\n",
       "      <td>0.006196</td>\n",
       "      <td>0.846991</td>\n",
       "      <td>IRS</td>\n",
       "      <td>0.0500</td>\n",
       "      <td>0.082515</td>\n",
       "      <td>0.223661</td>\n",
       "    </tr>\n",
       "  </tbody>\n",
       "</table>\n",
       "</div>"
      ],
      "text/plain": [
       "    Tenor Product_x  OIS Rate  OIS Forward Rate  OIS Discount Factor  \\\n",
       "0     0.5       OIS   0.00250          0.002498             0.998752   \n",
       "1     1.0       OIS   0.00300          0.002995             0.996520   \n",
       "2     2.0       OIS   0.00325          0.003495             0.993043   \n",
       "3     3.0       OIS   0.00335          0.003545             0.989529   \n",
       "4     4.0       OIS   0.00350          0.003946             0.985633   \n",
       "5     5.0       OIS   0.00360          0.003996             0.981702   \n",
       "6     7.0       OIS   0.00400          0.005015             0.971928   \n",
       "7    10.0       OIS   0.00450          0.005712             0.955508   \n",
       "8    15.0       OIS   0.00500          0.006097             0.927156   \n",
       "9    20.0       OIS   0.00525          0.006100             0.899634   \n",
       "10   30.0       OIS   0.00550          0.006196             0.846991   \n",
       "\n",
       "   Product_y  IRS Rate  IRS Forward Rate  IRS Discount Factor  \n",
       "0      LIBOR    0.0250          0.025000             0.987654  \n",
       "1        IRS    0.0280          0.031007             0.972576  \n",
       "2        IRS    0.0300          0.032264             0.942178  \n",
       "3        IRS    0.0315          0.034814             0.910480  \n",
       "4        IRS    0.0325          0.035838             0.878979  \n",
       "5        IRS    0.0330          0.035326             0.848988  \n",
       "6        IRS    0.0350          0.041298             0.784214  \n",
       "7        IRS    0.0370          0.044033             0.692708  \n",
       "8        IRS    0.0400          0.051401             0.551079  \n",
       "9        IRS    0.0450          0.069994             0.408216  \n",
       "10       IRS    0.0500          0.082515             0.223661  "
      ]
     },
     "execution_count": 2,
     "metadata": {},
     "output_type": "execute_result"
    }
   ],
   "source": [
    "transformed_data = pd.read_excel(\"transformed_data.xlsx\")\n",
    "transformed_data"
   ]
  },
  {
   "cell_type": "code",
   "execution_count": null,
   "id": "3006f86f",
   "metadata": {},
   "outputs": [],
   "source": []
  },
  {
   "cell_type": "code",
   "execution_count": null,
   "id": "9e074e45",
   "metadata": {},
   "outputs": [],
   "source": []
  },
  {
   "cell_type": "markdown",
   "id": "62051a46",
   "metadata": {},
   "source": [
    "# Rates Functions"
   ]
  },
  {
   "cell_type": "code",
   "execution_count": 3,
   "id": "99d5bfee",
   "metadata": {},
   "outputs": [],
   "source": [
    "#linear interpolate OIS DF based on Time\n",
    "def OISDF(T, df = transformed_data.copy()):\n",
    "    x = list(df['Tenor'])\n",
    "    y = list(df['OIS Discount Factor'])\n",
    "    return np.interp(T, x, y)\n",
    "\n",
    "#linear interpolate LIBOR DF based on Time\n",
    "def LIBORDF(T, df = transformed_data.copy()):\n",
    "    x = list(df['Tenor'])\n",
    "    y = list(df['IRS Discount Factor'])\n",
    "    return np.interp(T, x, y)\n",
    "\n",
    "# using cubic spline to interpolate SABR parameters\n",
    "def ParameterInterp (expiry, tenor, data):\n",
    "    splied_from_expiry = []\n",
    "    for i in [1,2,3,5,10]:\n",
    "        result = CubicSpline([1, 5, 10], data[i], bc_type=((2, 0.0), (2, 0.0)), extrapolate=True)\n",
    "        splied_from_expiry.append(result)\n",
    "\n",
    "    extract = []\n",
    "    for i in range(5):\n",
    "        extract.append(splied_from_expiry[i](expiry))\n",
    "\n",
    "    result = CubicSpline([1,2,3,5,10], extract, bc_type=((2, 0.0), (2, 0.0)), extrapolate=True)\n",
    "    return float(result(tenor))"
   ]
  },
  {
   "cell_type": "markdown",
   "id": "e0f9ef04",
   "metadata": {},
   "source": [
    "Let  𝑚\n",
    "  denote the payment frequenc ( 𝑚=2\n",
    "  for semi-annual payment frequency), and let  $𝑁=T_{i}−T_{i-1}$\n",
    "  denote the tenor of the swap (number of years)\n",
    "\n",
    "$ Forward\\ LIBOR = L(T_{i-1} , T_{i}) = \\frac{1}{𝑁} * \\frac{D_0(0, T_{i-1}) - D_0(0, T_i)}{D_0(0, T_i)}$"
   ]
  },
  {
   "cell_type": "code",
   "execution_count": 4,
   "id": "10504030",
   "metadata": {},
   "outputs": [],
   "source": [
    "def forward_LIBOR(D1,D2,N):\n",
    "    f = (1/N)*(D1/D2 - 1)\n",
    "    return f"
   ]
  },
  {
   "cell_type": "code",
   "execution_count": null,
   "id": "07b013fc",
   "metadata": {},
   "outputs": [],
   "source": []
  },
  {
   "cell_type": "markdown",
   "id": "344309b7",
   "metadata": {},
   "source": [
    "$ Forward\\ Swap\\ Rate = \\frac {Floating\\ Leg}{Fixed\\ Leg} = \\frac{\\sum_{n=i}^{N} D_0(0, T_i) * L(T_i, T_{i-1}) * m}{\\sum_{n=i}^{N} D_0(0,T_i)* m} $"
   ]
  },
  {
   "cell_type": "code",
   "execution_count": 5,
   "id": "948f56a5",
   "metadata": {},
   "outputs": [],
   "source": [
    "def forward_swap_rate(exp, T, m):   \n",
    "    payments = int(T * m) #no. of payments during tenor period\n",
    "    flt, fixed = 0, 0 \n",
    "    \n",
    "    for i in range(1,payments+1):\n",
    "        ti = exp + i/m\n",
    "        # float leg = OIS discount factor x forward LIBOR x delta\n",
    "        flt += OISDF(ti)*forward_LIBOR(LIBORDF(ti-(1/m)),LIBORDF(ti),(1/m))*(1/m)\n",
    "\n",
    "    for i in range(1,payments+1):\n",
    "        ti = exp + i/m\n",
    "        fixed += OISDF(ti) * (1/m)\n",
    "\n",
    "    return flt/fixed"
   ]
  },
  {
   "cell_type": "code",
   "execution_count": null,
   "id": "2794c06f",
   "metadata": {},
   "outputs": [],
   "source": []
  },
  {
   "cell_type": "markdown",
   "id": "50c2dad0",
   "metadata": {},
   "source": [
    "# Get Calibrated SABR Parameters"
   ]
  },
  {
   "cell_type": "code",
   "execution_count": 6,
   "id": "87af1089",
   "metadata": {},
   "outputs": [],
   "source": [
    "def Black76Call(F, K, sigma, T):\n",
    "    d1 = (np.log(F/K) + (sigma**2)*T/2)/(sigma*np.sqrt(T))\n",
    "    d2 = (np.log(F/K) - (sigma**2)*T/2)/(sigma*np.sqrt(T))\n",
    "    return (F*norm.cdf(d1) - K*norm.cdf(d2))\n",
    "\n",
    "def Black76Put(F, K, sigma, T):\n",
    "    d1 = (np.log(F/K) + (sigma**2)*T/2)/(sigma*np.sqrt(T))\n",
    "    d2 = (np.log(F/K) - (sigma**2)*T/2)/(sigma*np.sqrt(T))\n",
    "    return (K*norm.cdf(-d2) - F*norm.cdf(-d1))\n",
    "    \n",
    "def SABR(F, K, T, alpha, beta, rho, nu):\n",
    "    X = K\n",
    "    if F == K:\n",
    "        numer1 = (((1 - beta)**2)/24)*alpha*alpha/(F**(2 - 2*beta))\n",
    "        numer2 = 0.25*rho*beta*nu*alpha/(F**(1 - beta))\n",
    "        numer3 = ((2 - 3*rho*rho)/24)*nu*nu\n",
    "        VolAtm = alpha*(1 + (numer1 + numer2 + numer3)*T)/(F**(1-beta))\n",
    "        sabrsigma = VolAtm\n",
    "    else:\n",
    "        z = (nu/alpha)*((F*X)**(0.5*(1-beta)))*np.log(F/X)\n",
    "        zhi = np.log((((1 - 2*rho*z + z*z)**0.5) + z - rho)/(1 - rho))\n",
    "        numer1 = (((1 - beta)**2)/24)*((alpha*alpha)/((F*X)**(1 - beta)))\n",
    "        numer2 = 0.25*rho*beta*nu*alpha/((F*X)**((1 - beta)/2))\n",
    "        numer3 = ((2 - 3*rho*rho)/24)*nu*nu\n",
    "        numer = alpha*(1 + (numer1 + numer2 + numer3)*T)*z\n",
    "        denom1 = ((1 - beta)**2/24)*(np.log(F/X))**2\n",
    "        denom2 = (((1 - beta)**4)/1920)*((np.log(F/X))**4)\n",
    "        denom = ((F*X)**((1 - beta)/2))*(1 + denom1 + denom2)*zhi\n",
    "        sabrsigma = numer/denom\n",
    "    return sabrsigma"
   ]
  },
  {
   "cell_type": "code",
   "execution_count": null,
   "id": "441bd555",
   "metadata": {},
   "outputs": [],
   "source": []
  },
  {
   "cell_type": "code",
   "execution_count": null,
   "id": "b5b93098",
   "metadata": {},
   "outputs": [],
   "source": []
  },
  {
   "cell_type": "code",
   "execution_count": null,
   "id": "1e84f90f",
   "metadata": {},
   "outputs": [],
   "source": []
  },
  {
   "cell_type": "markdown",
   "id": "097d5d03",
   "metadata": {},
   "source": [
    "# Get CMS rates"
   ]
  },
  {
   "cell_type": "markdown",
   "id": "8f288dfd",
   "metadata": {},
   "source": [
    "$ CMS\\ Rate = g(F) + \\frac{1}{D(0,T)} \\left[\\int_0^F h''(K)V^{rec}(K)dK + \\int_F^\\infty h''(K)V^{pay}(K)dK\\right] $"
   ]
  },
  {
   "cell_type": "code",
   "execution_count": 7,
   "id": "add49489",
   "metadata": {},
   "outputs": [],
   "source": [
    "def IRR_0(K, m, N):\n",
    "    # implementation of IRR(K) function\n",
    "    value = 1/K * ( 1.0 - 1/(1 + K/m)**(N*m) )\n",
    "    return value\n",
    "\n",
    "def IRR_1(K, m, N):\n",
    "    # implementation of IRR'(K) function (1st derivative)\n",
    "    firstDerivative = -1/K*IRR_0(K, m, N) + 1/(K*m)*N*m/(1+K/m)**(N*m+1)\n",
    "    return firstDerivative\n",
    "\n",
    "def IRR_2(K, m, N):\n",
    "    # implementation of IRR''(K) function (2nd derivative)\n",
    "    secondDerivative = -2/K*IRR_1(K, m, N) - 1/(K*m*m)*(N*m)*(N*m+1)/(1+K/m)**(N*m+2)\n",
    "    return secondDerivative\n",
    "\n",
    "\n",
    "def g_0(K):\n",
    "    return K\n",
    "\n",
    "def g_1(K):\n",
    "    return 1.0\n",
    "\n",
    "def g_2(K):\n",
    "    return 0.0\n",
    "\n",
    "\n",
    "def h_0(K, m, N):\n",
    "    # implementation of h(K)\n",
    "    value = g_0(K) / IRR_0(K, m, N)\n",
    "    return value\n",
    "\n",
    "def h_1(K, m, N):\n",
    "    # implementation of h'(K) (1st derivative)\n",
    "    firstDerivative = (IRR_0(K, m, N)*g_1(K) - g_0(K)*IRR_1(K, m, N)) / IRR_0(K, m, N)**2\n",
    "    return firstDerivative\n",
    "\n",
    "def h_2(K, m, N):\n",
    "    # implementation of h''(K) (2nd derivative)\n",
    "    secondDerivative = ((IRR_0(K, m, N)*g_2(K) - IRR_2(K, m, N)*g_0(K) - 2.0*IRR_1(K, m, N)*g_1(K))/IRR_0(K, m, N)**2 \n",
    "                        + 2.0*IRR_1(K, m, N)**2*g_0(K)/IRR_0(K, m, N)**3)\n",
    "    return secondDerivative"
   ]
  },
  {
   "cell_type": "code",
   "execution_count": 8,
   "id": "909478b9",
   "metadata": {},
   "outputs": [],
   "source": [
    "def payer_swaption(discount, S_n_N, K, sigma, T, m , N):\n",
    "    return discount * IRR_0(S_n_N, m, N) * Black76Call(S_n_N, K, sigma, T)\n",
    "\n",
    "def receiver_swaption(discount, S_n_N, K, sigma, T, m , N):\n",
    "    return discount * IRR_0(S_n_N, m, N) * Black76Put(S_n_N, K, sigma, T)\n",
    "\n",
    "\n",
    "def call_integrand(S_n_N, K, sigma, T, m, N):\n",
    "    discount = OISDF(T)\n",
    "    price = h_2(K, m, N) * payer_swaption(discount, S_n_N, K, sigma, T, m , N)\n",
    "    return price\n",
    "\n",
    "def put_integrand(S_n_N, K, sigma, T, m, N):\n",
    "    discount = OISDF(T)\n",
    "    price = h_2(K, m, N) * receiver_swaption(discount, S_n_N, K, sigma, T, m, N)\n",
    "    return price\n"
   ]
  },
  {
   "cell_type": "code",
   "execution_count": 10,
   "id": "f9528ccd",
   "metadata": {},
   "outputs": [],
   "source": [
    "def CMS(T, m, N):\n",
    "    F = forward_swap_rate(T, N, m)\n",
    "#     alpha   = ParameterInterp(T,N,df_alpha)\n",
    "#     rho     = ParameterInterp(T,N,df_rho)\n",
    "#     nu      = ParameterInterp(T,N,df_nu)\n",
    "    \n",
    "    alpha, rho, nu = 0.175077, -0.420208, 0.511096\n",
    "    \n",
    "    VRec     = quad(lambda x:put_integrand(F,x,SABR(F,x,T,alpha,0.9,rho,nu),\n",
    "                                           T, m, N), 0, F)\n",
    "    VPay     = quad(lambda x:call_integrand(F,x,SABR(F,x,T,alpha,0.9,rho,nu),\n",
    "                                           T, m, N), F, 0.1) \n",
    "    # Choose upper bound of integration as 0.075 because the highest strike we can observe from market data is 0.073434\n",
    "    return F + (VRec[0] + VPay[0])/OISDF(T)"
   ]
  },
  {
   "cell_type": "code",
   "execution_count": null,
   "id": "0876f342",
   "metadata": {},
   "outputs": [],
   "source": []
  },
  {
   "cell_type": "code",
   "execution_count": 11,
   "id": "d8ca820b",
   "metadata": {},
   "outputs": [],
   "source": [
    "def PV_CMS(T, m, N):\n",
    "    n = int(T * m)\n",
    "    pv = 0\n",
    "    for i in range(1,n+1):\n",
    "        ti = i/m\n",
    "        pv += (OISDF(ti)/m) *CMS(ti,m,N)\n",
    "    return pv"
   ]
  },
  {
   "cell_type": "code",
   "execution_count": null,
   "id": "2288cc1b",
   "metadata": {},
   "outputs": [],
   "source": []
  },
  {
   "cell_type": "code",
   "execution_count": null,
   "id": "c9c58c10",
   "metadata": {},
   "outputs": [],
   "source": []
  },
  {
   "cell_type": "markdown",
   "id": "938425e2",
   "metadata": {},
   "source": [
    "# Question 1\n",
    "Using the SABR model calibrated in the previous question, value the\n",
    "following constant maturity swap (CMS) products:\n",
    "- PV of a leg receiving CMS10y semi-annually over the next 5 years\n",
    "- PV of a leg receiving CMS2y quarterly over the next 10 years"
   ]
  },
  {
   "cell_type": "code",
   "execution_count": 12,
   "id": "f077ff39",
   "metadata": {},
   "outputs": [
    {
     "name": "stdout",
     "output_type": "stream",
     "text": [
      "PV of a leg receiving CMS 10y semi-annually over the next 5 years =  0.2091489313201145\n"
     ]
    }
   ],
   "source": [
    "cms_period = 5\n",
    "tenor = 10\n",
    "m = 2\n",
    "\n",
    "PV = PV_CMS(cms_period, m, tenor)\n",
    "print('PV of a leg receiving CMS 10y semi-annually over the next 5 years = ',PV )"
   ]
  },
  {
   "cell_type": "code",
   "execution_count": 13,
   "id": "fab18014",
   "metadata": {},
   "outputs": [
    {
     "name": "stdout",
     "output_type": "stream",
     "text": [
      "PV of a leg receiving CMS 2y quarterly over the next 10 years =  0.3816537645966094\n"
     ]
    }
   ],
   "source": [
    "cms_period = 10\n",
    "tenor = 2\n",
    "m = 4\n",
    "\n",
    "PV = PV_CMS(cms_period, m, tenor)\n",
    "print('PV of a leg receiving CMS 2y quarterly over the next 10 years = ',PV )"
   ]
  },
  {
   "cell_type": "code",
   "execution_count": null,
   "id": "6c0538db",
   "metadata": {},
   "outputs": [],
   "source": []
  },
  {
   "cell_type": "markdown",
   "id": "01714b8e",
   "metadata": {},
   "source": [
    "# Question 2\n",
    "Compare the forward swap rates with the CMS rate:\n",
    "- 1y  x 1y, 1y  x 2y,  1y x 3y, 1y  x 5y, 1y  x 10y\n",
    "- 5y  x 1y, 5y  x 2y,  5y x 3y, 5y  x 5y, 5y  x 10y\n",
    "- 10y x 1y, 10y x 2y, 10y x 3y, 10y x 5y, 10y x 10y"
   ]
  },
  {
   "cell_type": "code",
   "execution_count": 14,
   "id": "203a52f2",
   "metadata": {},
   "outputs": [],
   "source": [
    "#calculate CMS rates\n",
    "T = [1, 5, 10]\n",
    "N = [1, 2, 3, 5, 10]\n",
    "m = 2\n",
    "\n",
    "all_CMS = []\n",
    "for i in T:\n",
    "    for j in N:\n",
    "        all_CMS.append(CMS(i,j,m))"
   ]
  },
  {
   "cell_type": "code",
   "execution_count": 15,
   "id": "895c56b2",
   "metadata": {},
   "outputs": [
    {
     "ename": "NameError",
     "evalue": "name 'df_SABRImpVol' is not defined",
     "output_type": "error",
     "traceback": [
      "\u001b[1;31m---------------------------------------------------------------------------\u001b[0m",
      "\u001b[1;31mNameError\u001b[0m                                 Traceback (most recent call last)",
      "\u001b[1;32m<ipython-input-15-b932e333797b>\u001b[0m in \u001b[0;36m<module>\u001b[1;34m\u001b[0m\n\u001b[0;32m      3\u001b[0m        '10 x 1', '10 x 2', '10 x 3', '10 x 5', '10 x 10']\n\u001b[0;32m      4\u001b[0m \u001b[1;33m\u001b[0m\u001b[0m\n\u001b[1;32m----> 5\u001b[1;33m \u001b[0msummary\u001b[0m \u001b[1;33m=\u001b[0m \u001b[0mpd\u001b[0m\u001b[1;33m.\u001b[0m\u001b[0mDataFrame\u001b[0m\u001b[1;33m(\u001b[0m\u001b[1;33m{\u001b[0m\u001b[1;34m'CMS_rate'\u001b[0m\u001b[1;33m:\u001b[0m\u001b[0mall_CMS\u001b[0m\u001b[1;33m,\u001b[0m \u001b[1;34m'Forward_Swap_rate'\u001b[0m\u001b[1;33m:\u001b[0m\u001b[0mdf_SABRImpVol\u001b[0m\u001b[1;33m[\u001b[0m\u001b[1;34m\"FSR\"\u001b[0m\u001b[1;33m]\u001b[0m\u001b[1;33m.\u001b[0m\u001b[0mvalues\u001b[0m\u001b[1;33m}\u001b[0m\u001b[1;33m,\u001b[0m \u001b[0mindex\u001b[0m \u001b[1;33m=\u001b[0m \u001b[0mind\u001b[0m\u001b[1;33m)\u001b[0m\u001b[1;33m\u001b[0m\u001b[1;33m\u001b[0m\u001b[0m\n\u001b[0m\u001b[0;32m      6\u001b[0m \u001b[0msummary\u001b[0m\u001b[1;33m\u001b[0m\u001b[1;33m\u001b[0m\u001b[0m\n",
      "\u001b[1;31mNameError\u001b[0m: name 'df_SABRImpVol' is not defined"
     ]
    }
   ],
   "source": [
    "ind = ['1 x 1', '1 x 2', '1 x 3', '1 x 5', '1 x 10',\n",
    "       '5 x 1', '5 x 2', '5 x 3', '5 x 5', '5 x 10',\n",
    "       '10 x 1', '10 x 2', '10 x 3', '10 x 5', '10 x 10']\n",
    "\n",
    "summary = pd.DataFrame({'CMS_rate':all_CMS, 'Forward_Swap_rate':df_SABRImpVol[\"FSR\"].values}, index = ind)\n",
    "summary"
   ]
  },
  {
   "cell_type": "code",
   "execution_count": null,
   "id": "3d66c10c",
   "metadata": {},
   "outputs": [],
   "source": [
    "title_list = ['Expiry = 1 year', 'Expiry = 5 year', 'Expiry = 10 year']\n",
    "for i in range(3):\n",
    "    plt.plot(Tenor,summary[\"CMS_rate\"][i*5:(i+1)*5],label=\"CMS Rate\")\n",
    "    plt.plot(Tenor,summary[\"Forward_Swap_rate\"][i*5:(i+1)*5],label=\"Forward_Swap_rate\")\n",
    "    plt.title(title_list[i])\n",
    "    plt.ylabel(\"rate\")\n",
    "    plt.xlabel(\"Tenor\")\n",
    "    plt.legend()\n",
    "    plt.grid()\n",
    "    plt.show()"
   ]
  },
  {
   "cell_type": "code",
   "execution_count": null,
   "id": "ade3b5e2",
   "metadata": {},
   "outputs": [],
   "source": []
  },
  {
   "cell_type": "code",
   "execution_count": null,
   "id": "01f1da98",
   "metadata": {},
   "outputs": [],
   "source": []
  }
 ],
 "metadata": {
  "kernelspec": {
   "display_name": "Python 3",
   "language": "python",
   "name": "python3"
  },
  "language_info": {
   "codemirror_mode": {
    "name": "ipython",
    "version": 3
   },
   "file_extension": ".py",
   "mimetype": "text/x-python",
   "name": "python",
   "nbconvert_exporter": "python",
   "pygments_lexer": "ipython3",
   "version": "3.8.8"
  }
 },
 "nbformat": 4,
 "nbformat_minor": 5
}
