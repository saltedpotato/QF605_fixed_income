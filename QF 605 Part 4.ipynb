{
 "cells": [
  {
   "cell_type": "code",
   "execution_count": 27,
   "metadata": {},
   "outputs": [],
   "source": [
    "import numpy as np\n",
    "from scipy.integrate import quad\n",
    "from scipy.stats import norm\n",
    "import warnings\n",
    "warnings.filterwarnings(\"ignore\")"
   ]
  },
  {
   "cell_type": "markdown",
   "metadata": {},
   "source": [
    "For static replication of any constant maturity swap (CMS) payoff $g(F)$, where $F$ is the swap rate, we use the following formula:\n",
    "\n",
    "  \\begin{equation*}\n",
    "    \\begin{split}\n",
    "      V_0 &= D(0,T) g(F) + h'(F)[V^{pay}(F)-V^{rec}(F)] \\\\\n",
    "      &\\;\\;\\;\\;\\;\\;\\;\\;\\;\\;+ \\int_0^F h''(K) V^{rec}(K) dK +\n",
    "      \\int_F^\\infty h''(K) V^{pay}(K) dK\n",
    "    \\end{split}\n",
    "  \\end{equation*}\n",
    "\n",
    "where\n",
    "\n",
    "  \\begin{equation*}\n",
    "    \\begin{split}\n",
    "      h(K) &= \\frac{g(K)}{\\text{IRR}(K)} \\\\\n",
    "      h'(K) &= \\frac{\\text{IRR}(K)g'(K) - g(K)\\text{IRR}'(K)}{\\text{IRR}(K)^2} \\\\\n",
    "      h''(K) &= \\frac{\\text{IRR}(K)g''(K)-\\text{IRR}''(K)g(K) -2\\cdot\\text{IRR}'(K)g'(K)}{\\text{IRR}(K)^2} \\\\\n",
    "      &\\;\\;\\;\\;\\;\\;\\;\\;\\;\\;+\n",
    "      \\frac{2\\cdot\\text{IRR}'(K)^2g(K)}{\\text{IRR}(K)^3}.\n",
    "    \\end{split}\n",
    "  \\end{equation*}\n",
    "\n",
    "We can implement this in Python. First we define the IRR functions."
   ]
  },
  {
   "cell_type": "code",
   "execution_count": 28,
   "metadata": {},
   "outputs": [],
   "source": [
    "def IRR_0(K, m, N):\n",
    "    # implementation of IRR(K) function\n",
    "    value = 1/K * ( 1.0 - 1/(1 + K/m)**(N*m) )\n",
    "    return value\n",
    "\n",
    "def IRR_1(K, m, N):\n",
    "    # implementation of IRR'(K) function (1st derivative)\n",
    "    firstDerivative = -1/K*IRR_0(K, m, N) + 1/(K*m)*N*m/(1+K/m)**(N*m+1)\n",
    "    return firstDerivative\n",
    "\n",
    "def IRR_2(K, m, N):\n",
    "    # implementation of IRR''(K) function (2nd derivative)\n",
    "    secondDerivative = -2/K*IRR_1(K, m, N) - 1/(K*m*m)*(N*m)*(N*m+1)/(1+K/m)**(N*m+2)\n",
    "    return secondDerivative\n"
   ]
  },
  {
   "cell_type": "markdown",
   "metadata": {},
   "source": [
    "For CMS rate payment, since $g(F)=F^\\frac{1}{p} - 0.04^\\frac{1}{q}, p = 4, q= 2$, we have the derivatives:\n",
    "\n",
    "\\begin{equation*}\n",
    "\\begin{split}\n",
    "g(K) &= K^\\frac{1}{4} - 0.04^\\frac{1}{2} \\\\\n",
    "g'(K) &= \\frac{1}{4}K^{-\\frac{3}{4}} \\\\\n",
    "g''(K) &= -\\frac{3}{16}K^{-\\frac{7}{4}}\n",
    "\\end{split}\n",
    "\\end{equation*}"
   ]
  },
  {
   "cell_type": "code",
   "execution_count": 29,
   "metadata": {},
   "outputs": [],
   "source": [
    "def g_0(K):\n",
    "    return K**(1/4) - 0.04**(1/2)\n",
    "\n",
    "def g_1(K):\n",
    "    return (1/4) * K**(-3/4)\n",
    "\n",
    "def g_2(K):\n",
    "    return (-3/16) * K**(-7/4)\n"
   ]
  },
  {
   "cell_type": "code",
   "execution_count": 30,
   "metadata": {},
   "outputs": [],
   "source": [
    "def h_0(K, m, N):\n",
    "    # implementation of h(K)\n",
    "    value = g_0(K) / IRR_0(K, m, N)\n",
    "    return value\n",
    "\n",
    "def h_1(K, m, N):\n",
    "    # implementation of h'(K) (1st derivative)\n",
    "    firstDerivative = (IRR_0(K, m, N)*g_1(K) - g_0(K)*IRR_1(K, m, N)) / IRR_0(K, m, N)**2\n",
    "    return firstDerivative\n",
    "\n",
    "def h_2(K, m, N):\n",
    "    # implementation of h''(K) (2nd derivative)\n",
    "    secondDerivative = ((IRR_0(K, m, N)*g_2(K) - IRR_2(K, m, N)*g_0(K) - 2.0*IRR_1(K, m, N)*g_1(K))/IRR_0(K, m, N)**2 \n",
    "                        + 2.0*IRR_1(K, m, N)**2*g_0(K)/IRR_0(K, m, N)**3)\n",
    "    return secondDerivative"
   ]
  },
  {
   "cell_type": "code",
   "execution_count": 31,
   "metadata": {},
   "outputs": [],
   "source": [
    "def SABR(F, K, T, alpha, beta, rho, nu):\n",
    "    X = K\n",
    "    # if K is at-the-money-forward\n",
    "    if abs(F - K) < 1e-12:\n",
    "        numer1 = (((1 - beta)**2)/24)*alpha*alpha/(F**(2 - 2*beta))\n",
    "        numer2 = 0.25*rho*beta*nu*alpha/(F**(1 - beta))\n",
    "        numer3 = ((2 - 3*rho*rho)/24)*nu*nu\n",
    "        VolAtm = alpha*(1 + (numer1 + numer2 + numer3)*T)/(F**(1-beta))\n",
    "        sabrsigma = VolAtm\n",
    "    else:\n",
    "        z = (nu/alpha)*((F*X)**(0.5*(1-beta)))*np.log(F/X)\n",
    "        zhi = np.log((((1 - 2*rho*z + z*z)**0.5) + z - rho)/(1 - rho))\n",
    "        numer1 = (((1 - beta)**2)/24)*((alpha*alpha)/((F*X)**(1 - beta)))\n",
    "        numer2 = 0.25*rho*beta*nu*alpha/((F*X)**((1 - beta)/2))\n",
    "        numer3 = ((2 - 3*rho*rho)/24)*nu*nu\n",
    "        numer = alpha*(1 + (numer1 + numer2 + numer3)*T)*z\n",
    "        denom1 = ((1 - beta)**2/24)*(np.log(F/X))**2\n",
    "        denom2 = (((1 - beta)**4)/1920)*((np.log(F/X))**4)\n",
    "        denom = ((F*X)**((1 - beta)/2))*(1 + denom1 + denom2)*zhi\n",
    "        sabrsigma = numer/denom\n",
    "\n",
    "    return sabrsigma"
   ]
  },
  {
   "cell_type": "markdown",
   "metadata": {},
   "source": [
    "We will also need to implement the IRR-settled payer and receiver swaption formulae:\n",
    "\n",
    "  \\begin{equation*}\n",
    "    \\begin{split}\n",
    "      V^{pay}_{n,N}(0) &= D(0,T_n) \\cdot \\text{IRR}(S_{n,N}(0)) \\cdot \\text{Black76Call}(S_{n,N}(0),K,\\sigma_{n,N},T) \\\\\n",
    "      V^{rec}_{n,N}(0) &= D(0,T_n) \\cdot \\text{IRR}(S_{n,N}(0)) \\cdot \\text{Black76Put}(S_{n,N}(0),K,\\sigma_{n,N},T) \\\\\n",
    "    \\end{split}\n",
    "  \\end{equation*}\n",
    "\n",
    "where $S_{n,N}(0)=F$ is today's forward swap rate calculated based on the curves we bootstrapped, and $\\sigma_{n,N}$ is the SABR implied volatility calibrated to swaption market data."
   ]
  },
  {
   "cell_type": "code",
   "execution_count": 32,
   "metadata": {},
   "outputs": [],
   "source": [
    "def Black76Call(F, K, sigma, T):\n",
    "    d1 = (np.log(F/K) + (sigma**2)*T/2)/(sigma*np.sqrt(T))\n",
    "    d2 = (np.log(F/K) - (sigma**2)*T/2)/(sigma*np.sqrt(T))\n",
    "    return (F*norm.cdf(d1) - K*norm.cdf(d2))\n",
    "\n",
    "def Black76Put(F, K, sigma, T):\n",
    "    d1 = (np.log(F/K) + (sigma**2)*T/2)/(sigma*np.sqrt(T))\n",
    "    d2 = (np.log(F/K) - (sigma**2)*T/2)/(sigma*np.sqrt(T))\n",
    "    return (K*norm.cdf(-d2) - F*norm.cdf(-d1))"
   ]
  },
  {
   "cell_type": "code",
   "execution_count": 33,
   "metadata": {},
   "outputs": [],
   "source": [
    "def payer_swaption(discount, F, K, sigma, T, m , N):\n",
    "    return discount * IRR_0(F, m, N) * Black76Call(F, K, sigma, T)\n",
    "\n",
    "def receiver_swaption(discount, F, K, sigma, T, m , N):\n",
    "    return discount * IRR_0(F, m, N) * Black76Put(F, K, sigma, T)"
   ]
  },
  {
   "cell_type": "code",
   "execution_count": 34,
   "metadata": {},
   "outputs": [],
   "source": [
    "def call_integrand(discount, F, K, sigma, T, m , N):\n",
    "    price = h_2(K, m, N) * payer_swaption(discount, F, K, sigma, T, m , N)\n",
    "    return price\n",
    "\n",
    "def put_integrand(discount, F, K, sigma, T, m , N):\n",
    "    price = h_2(K, m, N) * receiver_swaption(discount, F, K, sigma, T, m , N)\n",
    "    return price"
   ]
  },
  {
   "cell_type": "markdown",
   "metadata": {},
   "source": [
    "# Part 1"
   ]
  },
  {
   "cell_type": "markdown",
   "metadata": {},
   "source": [
    "For CMS rate payoff, the payoff function can be defined simply as $g(F)=F$, and the static replication formula simplifies into:\n",
    "\n",
    "  \\begin{equation*}\n",
    "    \\begin{split}\n",
    "      D(0,T) F + \\int_0^F h''(K) V^{rec}(K) dK + \\int_F^\\infty h''(K) V^{pay}(K) dK\n",
    "    \\end{split}\n",
    "  \\end{equation*}"
   ]
  },
  {
   "cell_type": "code",
   "execution_count": 35,
   "metadata": {},
   "outputs": [],
   "source": [
    "# Input parameters here\n",
    "discount = 0.982184     #OIS discount factor for D0(0, 5y) from part 1\n",
    "F = 0.043634            #Forward swap rate for 5y x 10y swaption from part 1\n",
    "T = 5                   #Option expiry date\n",
    "N = 10                  #Tenor of swap\n",
    "m = 2\n",
    "\n",
    "alpha = 0.170869        #Used calibrated parameters from part 2\n",
    "beta = 0.9\n",
    "rho = -0.372221\n",
    "nu=0.532554"
   ]
  },
  {
   "cell_type": "code",
   "execution_count": 36,
   "metadata": {},
   "outputs": [
    {
     "name": "stdout",
     "output_type": "stream",
     "text": [
      "The PV of the payoff of the decompounded option in part 1 is: 0.23363627577761975\n"
     ]
    }
   ],
   "source": [
    "# sigma = SABR(F, F, T, alpha=alpha, beta=beta, rho=rho, nu=nu)\n",
    "I_put = quad(lambda x: put_integrand(discount, F, x, SABR(F,x,T, alpha=alpha, beta=beta, rho=rho, nu=nu), T, m , N), 0.0, F)\n",
    "I_call = quad(lambda x: call_integrand(discount, F, x, SABR(F,x,T, alpha=alpha, beta=beta, rho=rho, nu=nu), T, m , N), F, 5000)\n",
    "\n",
    "v_0 = discount * g_0(F) + I_put[0] + I_call[0]\n",
    "\n",
    "print(f\"The PV of the payoff of the decompounded option in part 1 is: {v_0}\")"
   ]
  },
  {
   "cell_type": "markdown",
   "metadata": {},
   "source": [
    "# Part 2"
   ]
  },
  {
   "cell_type": "markdown",
   "metadata": {},
   "source": [
    "<div class=\"alert alert-block alert-warning\">\n",
    "<b>To Check:</b> Check how to set the limit and where to use the new strike\n",
    "</div>"
   ]
  },
  {
   "cell_type": "markdown",
   "metadata": {},
   "source": [
    "If payoff is now $(\\text {CMS 10y}^\\frac{1}{p} - 0.04^\\frac{1}{q})^+$, then the payoff can be replicated with \n",
    "\n",
    "  \\begin{equation*}\n",
    "    \\begin{split}\n",
    "      V_0 &= h'(L)V^{pay}(L) + \\int_L^\\infty h''(K) V^{pay}(K) dK\n",
    "    \\end{split}\n",
    "  \\end{equation*}\n",
    "\n",
    "For CMS rate payoff, the payoff function can be defined simply as $g(F)=F$. \n",
    "\n",
    "  \\begin{equation*}\n",
    "      \\begin{split}\n",
    "      F^\\frac{1}{4} > 0.2 \\\\\n",
    "      F > 0.2^4 = L\n",
    "      \\end{split}\n",
    "  \\end{equation*}"
   ]
  },
  {
   "cell_type": "code",
   "execution_count": 39,
   "metadata": {},
   "outputs": [],
   "source": [
    "L = (0.04** (1/2)) ** 4\n",
    "# sigma_2 = SABR(F, L, T, alpha=alpha, beta=beta, rho=rho, nu=nu)\n",
    "I_call2 = quad(lambda x: call_integrand(discount, F, x, SABR(F,x,T, alpha=alpha, beta=beta, rho=rho, nu=nu), T, m , N), L, 5000)\n",
    "v_1 = h_1(L, m, N) * payer_swaption(discount, F, L, SABR(F,L,T, alpha=alpha, beta=beta, rho=rho, nu=nu), T, m, N) + I_call2[0]"
   ]
  },
  {
   "cell_type": "code",
   "execution_count": 40,
   "metadata": {},
   "outputs": [
    {
     "name": "stdout",
     "output_type": "stream",
     "text": [
      "The PV of the payoff of the decompounded option in part 2 is: 0.25196852191752084\n"
     ]
    }
   ],
   "source": [
    "print(f\"The PV of the payoff of the decompounded option in part 2 is: {v_1}\")"
   ]
  }
 ],
 "metadata": {
  "kernelspec": {
   "display_name": "Python 3 (ipykernel)",
   "language": "python",
   "name": "python3"
  },
  "language_info": {
   "codemirror_mode": {
    "name": "ipython",
    "version": 3
   },
   "file_extension": ".py",
   "mimetype": "text/x-python",
   "name": "python",
   "nbconvert_exporter": "python",
   "pygments_lexer": "ipython3",
   "version": "3.11.5"
  }
 },
 "nbformat": 4,
 "nbformat_minor": 2
}
